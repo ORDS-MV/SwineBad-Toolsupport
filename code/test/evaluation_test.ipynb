{
 "cells": [
  {
   "metadata": {},
   "cell_type": "code",
   "outputs": [],
   "execution_count": null,
   "source": [
    "import unittest\n",
    "import sys  \n",
    "sys.path.insert(1, '../util')\n",
    "\n",
    "from evaluation import structure_evaluate"
   ]
  },
  {
   "metadata": {},
   "cell_type": "code",
   "outputs": [],
   "execution_count": null,
   "source": [
    "\n",
    "class TestEvaluation(unittest.TestCase):\n",
    "\n",
    "    def setUp(self):\n",
    "        self.truth = {'Nummer': '970',\n",
    "                    'Vorname': 'Hermann',\n",
    "                    'Nachname': 'Appelbaum',\n",
    "                    'Titel': None,\n",
    "                    'Beruf': 'Elektrotechniker',\n",
    "                    'Sozialer Stand': None,\n",
    "                    'Begleitung': None,\n",
    "                    'Wohnort': 'Berlin',\n",
    "                    'Wohnung': 'Maaß, Lotsenstr. 81',\n",
    "                    'Personenanzahl': '1'}\n",
    "        self.missing_key_prediction = {'Nummer': '970 | Appelbaum, Hermann, Elektrotechniker | Berlin | Maaß, Lotsenstr. 81 | 1'}\n",
    "        self.wrong_name_prediction = {'Nummer': '970',\n",
    "                    'Vorname': 'Appelbaum',\n",
    "                    'Nachname': 'Hermann',\n",
    "                    'Titel': None,\n",
    "                    'Beruf': 'Elektrotechniker',\n",
    "                    'Sozialer Stand': None,\n",
    "                    'Begleitung': None,\n",
    "                    'Wohnort': 'Berlin',\n",
    "                    'Wohnung': 'Maaß, Lotsenstr. 81',\n",
    "                    'Personenanzahl': '1'}\n",
    "                        \n",
    "        self.empty_field_prediction = {'Nummer': '970',\n",
    "                    'Vorname': None,\n",
    "                    'Nachname': None,\n",
    "                    'Titel': None,\n",
    "                    'Beruf': 'Hermann Appelbaum Elektrotechniker',\n",
    "                    'Sozialer Stand': None,\n",
    "                    'Begleitung': None,\n",
    "                    'Wohnort': 'Berlin',\n",
    "                    'Wohnung': 'Maaß, Lotsenstr. 81',\n",
    "                    'Personenanzahl': '1'}\n",
    "        \n",
    "        self.missing_word_prediction = {'Nummer': '970',\n",
    "                    'Vorname': None,\n",
    "                    'Nachname': None,\n",
    "                    'Titel': None,\n",
    "                    'Beruf': 'Elektrotechniker',\n",
    "                    'Sozialer Stand': None,\n",
    "                    'Begleitung': None,\n",
    "                    'Wohnort': 'Berlin',\n",
    "                    'Wohnung': 'Maaß, Lotsenstr. 81',\n",
    "                    'Personenanzahl': '1'}\n",
    "    \n",
    "    def test_different_length(self):\n",
    "        with self.assertRaises(Exception):\n",
    "            structure_evaluate([self.truth, self.truth],[self.truth])\n",
    "\n",
    "    def test_different_key(self):\n",
    "        with self.assertRaises(Exception):\n",
    "            structure_evaluate([self.truth],[self.missing_key_prediction])\n",
    "\n",
    "    def test_correct(self):\n",
    "        f1, _ = structure_evaluate([self.truth],[self.truth])\n",
    "        self.assertEqual(f1, 1.0)\n",
    "\n",
    "    def test_wrong_name(self):\n",
    "        f1, _ = structure_evaluate([self.truth], [self.wrong_name_prediction])\n",
    "        self.assertEqual(f1, 1-2/9)\n",
    "\n",
    "    def test_empty_field(self):\n",
    "        f1, _ = structure_evaluate([self.truth], [self.empty_field_prediction])\n",
    "        self.assertEqual(f1, 1-2/9)\n",
    "\n",
    "    def test_missing_word(self):\n",
    "        f1, _ = structure_evaluate([self.truth], [self.missing_word_prediction])\n",
    "        self.assertEqual(f1, 1-2/9)        "
   ]
  },
  {
   "cell_type": "code",
   "execution_count": 3,
   "metadata": {},
   "outputs": [
    {
     "name": "stderr",
     "output_type": "stream",
     "text": [
      "test_correct (__main__.TestEvaluation.test_correct) ... ok\n",
      "test_different_key (__main__.TestEvaluation.test_different_key) ... ok\n",
      "test_different_length (__main__.TestEvaluation.test_different_length) ... ok\n",
      "test_empty_field (__main__.TestEvaluation.test_empty_field) ... /opt/conda/lib/python3.11/site-packages/sklearn/metrics/_classification.py:1497: UndefinedMetricWarning: Recall is ill-defined and being set to 0.0 in labels with no true samples. Use `zero_division` parameter to control this behavior.\n",
      "  _warn_prf(average, modifier, f\"{metric.capitalize()} is\", len(result))\n",
      "/opt/conda/lib/python3.11/site-packages/sklearn/metrics/_classification.py:1497: UndefinedMetricWarning: Recall is ill-defined and being set to 0.0 in labels with no true samples. Use `zero_division` parameter to control this behavior.\n",
      "  _warn_prf(average, modifier, f\"{metric.capitalize()} is\", len(result))\n",
      "/opt/conda/lib/python3.11/site-packages/sklearn/metrics/_classification.py:1497: UndefinedMetricWarning: Recall is ill-defined and being set to 0.0 in labels with no true samples. Use `zero_division` parameter to control this behavior.\n",
      "  _warn_prf(average, modifier, f\"{metric.capitalize()} is\", len(result))\n",
      "ok\n",
      "test_missing_word (__main__.TestEvaluation.test_missing_word) ... /opt/conda/lib/python3.11/site-packages/sklearn/metrics/_classification.py:1497: UndefinedMetricWarning: Precision is ill-defined and being set to 0.0 in labels with no predicted samples. Use `zero_division` parameter to control this behavior.\n",
      "  _warn_prf(average, modifier, f\"{metric.capitalize()} is\", len(result))\n",
      "/opt/conda/lib/python3.11/site-packages/sklearn/metrics/_classification.py:1497: UndefinedMetricWarning: Recall is ill-defined and being set to 0.0 in labels with no true samples. Use `zero_division` parameter to control this behavior.\n",
      "  _warn_prf(average, modifier, f\"{metric.capitalize()} is\", len(result))\n",
      "/opt/conda/lib/python3.11/site-packages/sklearn/metrics/_classification.py:1497: UndefinedMetricWarning: Precision is ill-defined and being set to 0.0 in labels with no predicted samples. Use `zero_division` parameter to control this behavior.\n",
      "  _warn_prf(average, modifier, f\"{metric.capitalize()} is\", len(result))\n",
      "/opt/conda/lib/python3.11/site-packages/sklearn/metrics/_classification.py:1497: UndefinedMetricWarning: Recall is ill-defined and being set to 0.0 in labels with no true samples. Use `zero_division` parameter to control this behavior.\n",
      "  _warn_prf(average, modifier, f\"{metric.capitalize()} is\", len(result))\n",
      "/opt/conda/lib/python3.11/site-packages/sklearn/metrics/_classification.py:1497: UndefinedMetricWarning: Precision is ill-defined and being set to 0.0 in labels with no predicted samples. Use `zero_division` parameter to control this behavior.\n",
      "  _warn_prf(average, modifier, f\"{metric.capitalize()} is\", len(result))\n",
      "/opt/conda/lib/python3.11/site-packages/sklearn/metrics/_classification.py:1497: UndefinedMetricWarning: Recall is ill-defined and being set to 0.0 in labels with no true samples. Use `zero_division` parameter to control this behavior.\n",
      "  _warn_prf(average, modifier, f\"{metric.capitalize()} is\", len(result))\n",
      "ok\n",
      "test_wrong_name (__main__.TestEvaluation.test_wrong_name) ... ok\n",
      "\n",
      "----------------------------------------------------------------------\n",
      "Ran 6 tests in 0.031s\n",
      "\n",
      "OK\n"
     ]
    },
    {
     "name": "stdout",
     "output_type": "stream",
     "text": [
      "Word Hermann in key Vorname from truth was not found in prediction\n",
      "Word Appelbaum in key Nachname from truth was not found in prediction\n"
     ]
    },
    {
     "data": {
      "text/plain": [
       "<unittest.main.TestProgram at 0x7f740430ecd0>"
      ]
     },
     "execution_count": 3,
     "metadata": {},
     "output_type": "execute_result"
    }
   ],
   "source": [
    "unittest.main(argv=[''], verbosity=2, exit=False)"
   ]
  },
  {
   "cell_type": "code",
   "execution_count": null,
   "metadata": {},
   "outputs": [],
   "source": []
  }
 ],
 "metadata": {
  "kernelspec": {
   "display_name": "Python 3 (ipykernel)",
   "language": "python",
   "name": "python3"
  },
  "language_info": {
   "codemirror_mode": {
    "name": "ipython",
    "version": 3
   },
   "file_extension": ".py",
   "mimetype": "text/x-python",
   "name": "python",
   "nbconvert_exporter": "python",
   "pygments_lexer": "ipython3",
   "version": "3.11.7"
  }
 },
 "nbformat": 4,
 "nbformat_minor": 4
}
